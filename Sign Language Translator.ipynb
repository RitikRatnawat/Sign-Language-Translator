{
 "cells": [
  {
   "cell_type": "code",
   "execution_count": 1,
   "id": "presidential-smoke",
   "metadata": {},
   "outputs": [],
   "source": [
    "import tensorflow as tf\n",
    "from tensorflow import keras\n",
    "from keras.models import Sequential\n",
    "from keras.layers import Activation, Dense, Flatten, BatchNormalization, Conv2D, MaxPool2D, Dropout\n",
    "from keras.optimizer_v2.adam import Adam\n",
    "from keras.optimizer_v2.gradient_descent import SGD\n",
    "from keras.metrics import categorical_crossentropy\n",
    "from keras.preprocessing.image import ImageDataGenerator"
   ]
  },
  {
   "cell_type": "code",
   "execution_count": 2,
   "id": "overhead-filename",
   "metadata": {},
   "outputs": [],
   "source": [
    "import warnings\n",
    "import numpy as np\n",
    "import cv2\n",
    "import matplotlib.pyplot as plt\n",
    "from keras.callbacks import ReduceLROnPlateau\n",
    "from keras.callbacks import ModelCheckpoint, EarlyStopping\n",
    "warnings.simplefilter(action='ignore', category=FutureWarning)"
   ]
  },
  {
   "cell_type": "code",
   "execution_count": 3,
   "id": "welsh-cleaners",
   "metadata": {},
   "outputs": [],
   "source": [
    "word_dict = {0:'One', 1:'Two', 2:'Three', 3:'Four', 4:'Five', 5:'Six', 6:'Seven', 7:'Eight', 8:'Nine'}"
   ]
  },
  {
   "cell_type": "markdown",
   "id": "senior-knowing",
   "metadata": {},
   "source": [
    "<br>"
   ]
  },
  {
   "cell_type": "markdown",
   "id": "systematic-israel",
   "metadata": {},
   "source": [
    "# Data Collection"
   ]
  },
  {
   "cell_type": "code",
   "execution_count": 4,
   "id": "shaped-helena",
   "metadata": {},
   "outputs": [],
   "source": [
    "background = None\n",
    "accumulated_weight = 0.5"
   ]
  },
  {
   "cell_type": "markdown",
   "id": "surrounded-backing",
   "metadata": {},
   "source": [
    "### Creating Dimensions for Region of Interest"
   ]
  },
  {
   "cell_type": "code",
   "execution_count": 5,
   "id": "focal-bathroom",
   "metadata": {},
   "outputs": [],
   "source": [
    "#Creating the dimensions for the ROI...\n",
    "ROI_top = 100\n",
    "ROI_bottom = 350\n",
    "ROI_left = 150\n",
    "ROI_right = 400"
   ]
  },
  {
   "cell_type": "markdown",
   "id": "printable-device",
   "metadata": {},
   "source": [
    "### Function for Background Substraction"
   ]
  },
  {
   "cell_type": "code",
   "execution_count": 6,
   "id": "alone-differential",
   "metadata": {},
   "outputs": [],
   "source": [
    "def calculate_accumulated_avg(frame, accumulated_weight):\n",
    "    global background\n",
    "    \n",
    "    if background is None:\n",
    "        background = frame.copy().astype(\"float\")\n",
    "        return None\n",
    "    \n",
    "    cv2.accumulateWeighted(frame, background, accumulated_weight)"
   ]
  },
  {
   "cell_type": "markdown",
   "id": "indie-extension",
   "metadata": {},
   "source": [
    "### Function for Hand Segmentation and Finding contours"
   ]
  },
  {
   "cell_type": "code",
   "execution_count": 7,
   "id": "hollywood-birth",
   "metadata": {},
   "outputs": [],
   "source": [
    "def segment_hand(frame, threshold=25):\n",
    "    global background\n",
    "    \n",
    "    diff = cv2.absdiff(background.astype(\"uint8\"), frame)\n",
    "    \n",
    "    _, thresholded = cv2.threshold(diff, threshold, 255, cv2.THRESH_BINARY)\n",
    "    \n",
    "    contours, hierarchy = cv2.findContours(thresholded.copy(), cv2.RETR_EXTERNAL, cv2.CHAIN_APPROX_SIMPLE)\n",
    "    \n",
    "    if len(contours) == 0:\n",
    "        return None\n",
    "    else:\n",
    "        hand_segment_max_contours = max(contours, key=cv2.contourArea)\n",
    "        return (thresholded, hand_segment_max_contours)"
   ]
  },
  {
   "cell_type": "markdown",
   "id": "eastern-thomas",
   "metadata": {},
   "source": [
    "### Function for generating the Data for Signs"
   ]
  },
  {
   "cell_type": "code",
   "execution_count": 8,
   "id": "based-limit",
   "metadata": {},
   "outputs": [],
   "source": [
    "def getDataforElement(element):\n",
    "    cam = cv2.VideoCapture(0)\n",
    "\n",
    "    num_frames = 0\n",
    "    nums_imgs_taken = 0\n",
    "\n",
    "    while True:\n",
    "        ret, frame = cam.read()\n",
    "\n",
    "        frame = cv2.flip(frame, 1)\n",
    "        frame_copy = frame.copy()\n",
    "\n",
    "        roi = frame[ROI_top:ROI_bottom, ROI_left:ROI_right]\n",
    "\n",
    "        gray_frame = cv2.cvtColor(roi, cv2.COLOR_BGR2GRAY)\n",
    "        gray_frame = cv2.GaussianBlur(gray_frame, (9, 9), 0)\n",
    "\n",
    "        if num_frames < 60:\n",
    "            calculate_accumulated_avg(gray_frame, accumulated_weight)\n",
    "\n",
    "            if num_frames <= 59:\n",
    "                cv2.putText(frame_copy, \"FETCHING BACKGROUND...PLEASE WAIT\", \n",
    "                            (80, 400), cv2.FONT_HERSHEY_SIMPLEX, 0.9, (0,0,255), 2)\n",
    "\n",
    "        elif num_frames <= 300:\n",
    "            hand = segment_hand(gray_frame)\n",
    "            cv2.putText(frame_copy, \"Adjust hand...Gesture for \" + str(element), \n",
    "                        (200, 400), cv2.FONT_HERSHEY_SIMPLEX, 1, (0,0,255),2)\n",
    "\n",
    "\n",
    "            if hand is not None:\n",
    "                thresholded, hand_segment = hand\n",
    "\n",
    "                # Draw contours around hand segment\n",
    "                cv2.drawContours(frame_copy, [hand_segment + (60, 60)], -1, (255, 0, 0),1)\n",
    "\n",
    "                cv2.putText(frame_copy, str(num_frames)+\" For \" + str(element),(70, 45), cv2.FONT_HERSHEY_SIMPLEX, \n",
    "                            1, (0,0,255), 2)\n",
    "                cv2.imshow(\"Thresholded Hand Image\", thresholded)\n",
    "\n",
    "        else:\n",
    "            hand = segment_hand(gray_frame)\n",
    "\n",
    "            if hand is not None:\n",
    "                thresholded, hand_segment = hand\n",
    "\n",
    "                cv2.drawContours(frame_copy, [hand_segment + (60, 60)], \n",
    "                                 -1, (255, 0, 0),1)\n",
    "                cv2.putText(frame_copy, str(num_frames), (70, 45), cv2.FONT_HERSHEY_SIMPLEX, \n",
    "                            1, (0,0,255), 2)\n",
    "                cv2.putText(frame_copy, str(nums_imgs_taken) + \" images For \" + str(element), \n",
    "                            (200, 400), cv2.FONT_HERSHEY_SIMPLEX, 1, (0,0,255), 2)\n",
    "                cv2.imshow(\"Thresholded Hand Image\", thresholded)\n",
    "\n",
    "\n",
    "                if nums_imgs_taken <= 300:\n",
    "                    cv2.imwrite(r\"D:\\\\My Learning\\\\7th Semester\\\\Project Work - I\\\\Translator\\\\gesture\\\\train\\\\\"\n",
    "                                +str(element)+\"\\\\\" + str(nums_imgs_taken+300) + '.jpg', thresholded)\n",
    "                    print(nums_imgs_taken, end=\" \")\n",
    "                else:\n",
    "                    break\n",
    "\n",
    "                nums_imgs_taken += 1\n",
    "\n",
    "            else:\n",
    "                cv2.putText(frame_copy, 'No hand detected...', (200, 400), cv2.FONT_HERSHEY_SIMPLEX, 1, (0,0,255), 2)\n",
    "\n",
    "        # Drawing ROI on frame copy\n",
    "        cv2.rectangle(frame_copy, (ROI_left, ROI_top), (ROI_right,ROI_bottom), (255,128,0), 3)\n",
    "\n",
    "        # increment the number of frames for tracking\n",
    "        num_frames += 1\n",
    "\n",
    "        # Display the frame with segmented hand\n",
    "        cv2.imshow(\"Sign Detection\", frame_copy)\n",
    "\n",
    "        # Closing windows with Esc key...(any other key with ord can be used too.)\n",
    "        k = cv2.waitKey(1) & 0xFF\n",
    "        if k == 27:\n",
    "            break\n",
    "\n",
    "    # Releasing the camera & destroying all the windows...\n",
    "    cv2.destroyAllWindows()\n",
    "    cam.release()"
   ]
  },
  {
   "cell_type": "code",
   "execution_count": null,
   "id": "viral-accountability",
   "metadata": {},
   "outputs": [],
   "source": []
  },
  {
   "cell_type": "markdown",
   "id": "executive-joshua",
   "metadata": {},
   "source": [
    "### Function for Converting the Image Data"
   ]
  },
  {
   "cell_type": "code",
   "execution_count": 9,
   "id": "august-horizon",
   "metadata": {},
   "outputs": [],
   "source": [
    "def convertImage(element, threshold):\n",
    "    \n",
    "    nums_img_converted = 0\n",
    "    \n",
    "    background_path = r\"D:\\\\My Learning\\\\7th Semester\\\\Project Work - I\\\\Translator\\\\gesture\\\\background.png\"\n",
    "    background = cv2.imread(background_path, cv2.IMREAD_UNCHANGED)\n",
    "    background = cv2.cvtColor(background, cv2.COLOR_BGR2GRAY)\n",
    "    background = cv2.GaussianBlur(background, (9,9), 0)\n",
    "    \n",
    "    source = r\"D:\\\\My Learning\\\\7th Semester\\\\Project Work - I\\\\data\\\\\" + str(element) + \"\\\\\"\n",
    "    hand_image_path = r\"D:\\\\My Learning\\\\7th Semester\\\\Project Work - I\\\\Translator\\\\gesture\\\\train\\\\\" + str(element) + \"\\\\\"\n",
    "    \n",
    "    while True:\n",
    "        hand_image = cv2.imread(source + str(nums_img_converted) + \".jpg\")\n",
    "#         hand_image = cv2.flip(hand_image, 1)\n",
    "        hand_image = cv2.cvtColor(hand_image, cv2.COLOR_BGR2GRAY)\n",
    "\n",
    "        diff = cv2.absdiff(background.astype(\"uint8\"), hand_image)\n",
    "        _, thresholded = cv2.threshold(diff, threshold, 255, cv2.THRESH_BINARY)\n",
    "        \n",
    "        cv2.imwrite(hand_image_path + \"R\" + str(nums_img_converted) + \".jpg\", thresholded)\n",
    "        plt.imshow(thresholded)\n",
    "        \n",
    "        nums_img_converted += 1\n",
    "        \n",
    "        if nums_img_converted > 1199:\n",
    "            break"
   ]
  },
  {
   "cell_type": "code",
   "execution_count": 10,
   "id": "republican-medication",
   "metadata": {},
   "outputs": [
    {
     "data": {
      "image/png": "[encoded data removed]",
      "text/plain": [
       "<Figure size 432x288 with 1 Axes>"
      ]
     },
     "metadata": {
      "needs_background": "light"
     },
     "output_type": "display_data"
    },
    {
     "data": {
      "image/png": "[encoded data removed]",
      "text/plain": [
       "<Figure size 432x288 with 1 Axes>"
      ]
     },
     "metadata": {
      "needs_background": "light"
     },
     "output_type": "display_data"
    },
    {
     "data": {
      "image/png": "[encoded data removed]",
      "text/plain": [
       "<Figure size 432x288 with 1 Axes>"
      ]
     },
     "metadata": {
      "needs_background": "light"
     },
     "output_type": "display_data"
    }
   ],
   "source": [
    "convertImage(1, 30)"
   ]
  },
  {
   "cell_type": "markdown",
   "id": "pretty-engineer",
   "metadata": {},
   "source": [
    "<br>"
   ]
  },
  {
   "cell_type": "markdown",
   "id": "hydraulic-amazon",
   "metadata": {},
   "source": [
    "# Training CNN"
   ]
  },
  {
   "cell_type": "markdown",
   "id": "boolean-dependence",
   "metadata": {},
   "source": [
    "### Function to Generate Data into Batches"
   ]
  },
  {
   "cell_type": "code",
   "execution_count": 11,
   "id": "juvenile-thinking",
   "metadata": {},
   "outputs": [
    {
     "name": "stdout",
     "output_type": "stream",
     "text": [
      "Found 17520 images belonging to 9 classes.\n",
      "Found 17520 images belonging to 9 classes.\n",
      "Found 17520 images belonging to 9 classes.\n",
      "Found 4320 images belonging to 9 classes.\n",
      "Found 4320 images belonging to 9 classes.\n",
      "Found 4320 images belonging to 9 classes.\n"
     ]
    }
   ],
   "source": [
    "train_path = r\"D:\\My Learning\\7th Semester\\Project Work - I\\Translator\\gesture\\train\"\n",
    "test_path = r\"D:\\My Learning\\7th Semester\\Project Work - I\\Translator\\gesture\\test\"\n",
    "\n",
    "train_batches = ImageDataGenerator(preprocessing_function=tf.keras.applications.vgg16.preprocess_input)\n",
    "train_batches = train_batches.flow_from_directory(directory=train_path, target_size=(64,64), \n",
    "                                                  class_mode='categorical', batch_size=10, shuffle=True)\n",
    "\n",
    "test_batches = ImageDataGenerator(preprocessing_function=tf.keras.applications.vgg16.preprocess_input)\n",
    "test_batches = test_batches.flow_from_directory(directory=test_path, target_size=(64,64), \n",
    "                                                  class_mode='categorical', batch_size=10, shuffle=True)"
   ]
  },
  {
   "cell_type": "code",
   "execution_count": 12,
   "id": "infinite-johnson",
   "metadata": {},
   "outputs": [],
   "source": [
    "# Function to plot images on the console\n",
    "def plotImages(images_arr):\n",
    "    fig, axes = plt.subplots(1, 10, figsize=(30,20))\n",
    "    axes = axes.flatten()\n",
    "\n",
    "    for img, ax in zip(images_arr, axes):\n",
    "        img = cv2.cvtColor(img, cv2.COLOR_BGR2RGB)\n",
    "        ax.imshow(img)\n",
    "        ax.axis(\"off\")\n",
    "    plt.tight_layout()\n",
    "    plt.show()\n",
    "        \n",
    "\n",
    "# Function to get Image Data from batches\n",
    "def getImageData(batches):\n",
    "    imgs, labels = next(batches)\n",
    "\n",
    "    plotImages(imgs)\n",
    "    print(imgs.shape)\n",
    "    print(labels)"
   ]
  },
  {
   "cell_type": "code",
   "execution_count": 13,
   "id": "bound-trash",
   "metadata": {},
   "outputs": [
    {
     "name": "stderr",
     "output_type": "stream",
     "text": [
      "Clipping input data to the valid range for imshow with RGB data ([0..1] for floats or [0..255] for integers).\n",
      "Clipping input data to the valid range for imshow with RGB data ([0..1] for floats or [0..255] for integers).\n",
      "Clipping input data to the valid range for imshow with RGB data ([0..1] for floats or [0..255] for integers).\n",
      "Clipping input data to the valid range for imshow with RGB data ([0..1] for floats or [0..255] for integers).\n",
      "Clipping input data to the valid range for imshow with RGB data ([0..1] for floats or [0..255] for integers).\n",
      "Clipping input data to the valid range for imshow with RGB data ([0..1] for floats or [0..255] for integers).\n",
      "Clipping input data to the valid range for imshow with RGB data ([0..1] for floats or [0..255] for integers).\n",
      "Clipping input data to the valid range for imshow with RGB data ([0..1] for floats or [0..255] for integers).\n",
      "Clipping input data to the valid range for imshow with RGB data ([0..1] for floats or [0..255] for integers).\n",
      "Clipping input data to the valid range for imshow with RGB data ([0..1] for floats or [0..255] for integers).\n",
      "Clipping input data to the valid range for imshow with RGB data ([0..1] for floats or [0..255] for integers).\n",
      "Clipping input data to the valid range for imshow with RGB data ([0..1] for floats or [0..255] for integers).\n",
      "Clipping input data to the valid range for imshow with RGB data ([0..1] for floats or [0..255] for integers).\n",
      "Clipping input data to the valid range for imshow with RGB data ([0..1] for floats or [0..255] for integers).\n",
      "Clipping input data to the valid range for imshow with RGB data ([0..1] for floats or [0..255] for integers).\n",
      "Clipping input data to the valid range for imshow with RGB data ([0..1] for floats or [0..255] for integers).\n",
      "Clipping input data to the valid range for imshow with RGB data ([0..1] for floats or [0..255] for integers).\n",
      "Clipping input data to the valid range for imshow with RGB data ([0..1] for floats or [0..255] for integers).\n",
      "Clipping input data to the valid range for imshow with RGB data ([0..1] for floats or [0..255] for integers).\n",
      "Clipping input data to the valid range for imshow with RGB data ([0..1] for floats or [0..255] for integers).\n",
      "Clipping input data to the valid range for imshow with RGB data ([0..1] for floats or [0..255] for integers).\n",
      "Clipping input data to the valid range for imshow with RGB data ([0..1] for floats or [0..255] for integers).\n",
      "Clipping input data to the valid range for imshow with RGB data ([0..1] for floats or [0..255] for integers).\n",
      "Clipping input data to the valid range for imshow with RGB data ([0..1] for floats or [0..255] for integers).\n",
      "Clipping input data to the valid range for imshow with RGB data ([0..1] for floats or [0..255] for integers).\n",
      "Clipping input data to the valid range for imshow with RGB data ([0..1] for floats or [0..255] for integers).\n",
      "Clipping input data to the valid range for imshow with RGB data ([0..1] for floats or [0..255] for integers).\n",
      "Clipping input data to the valid range for imshow with RGB data ([0..1] for floats or [0..255] for integers).\n",
      "Clipping input data to the valid range for imshow with RGB data ([0..1] for floats or [0..255] for integers).\n",
      "Clipping input data to the valid range for imshow with RGB data ([0..1] for floats or [0..255] for integers).\n"
     ]
    },
    {
     "data": {
      "image/png": "[encoded data removed]",
      "text/plain": [
       "<Figure size 2160x1440 with 10 Axes>"
      ]
     },
     "metadata": {
      "needs_background": "light"
     },
     "output_type": "display_data"
    },
    {
     "data": {
      "image/png": "[encoded data removed]",
      "text/plain": [
       "<Figure size 2160x1440 with 10 Axes>"
      ]
     },
     "metadata": {
      "needs_background": "light"
     },
     "output_type": "display_data"
    },
    {
     "data": {
      "image/png": "[encoded data removed]",
      "text/plain": [
       "<Figure size 2160x1440 with 10 Axes>"
      ]
     },
     "metadata": {
      "needs_background": "light"
     },
     "output_type": "display_data"
    },
    {
     "name": "stdout",
     "output_type": "stream",
     "text": [
      "(10, 64, 64, 3)\n",
      "[[0. 0. 0. 0. 1. 0. 0. 0. 0.]\n",
      " [0. 0. 0. 1. 0. 0. 0. 0. 0.]\n",
      " [0. 1. 0. 0. 0. 0. 0. 0. 0.]\n",
      " [0. 1. 0. 0. 0. 0. 0. 0. 0.]\n",
      " [0. 0. 0. 0. 0. 0. 1. 0. 0.]\n",
      " [0. 0. 0. 0. 0. 0. 1. 0. 0.]\n",
      " [0. 0. 0. 0. 0. 1. 0. 0. 0.]\n",
      " [0. 0. 0. 0. 0. 0. 0. 0. 1.]\n",
      " [0. 0. 0. 0. 1. 0. 0. 0. 0.]\n",
      " [0. 0. 1. 0. 0. 0. 0. 0. 0.]]\n",
      "(10, 64, 64, 3)\n",
      "[[0. 0. 0. 0. 1. 0. 0. 0. 0.]\n",
      " [0. 0. 0. 1. 0. 0. 0. 0. 0.]\n",
      " [0. 1. 0. 0. 0. 0. 0. 0. 0.]\n",
      " [0. 1. 0. 0. 0. 0. 0. 0. 0.]\n",
      " [0. 0. 0. 0. 0. 0. 1. 0. 0.]\n",
      " [0. 0. 0. 0. 0. 0. 1. 0. 0.]\n",
      " [0. 0. 0. 0. 0. 1. 0. 0. 0.]\n",
      " [0. 0. 0. 0. 0. 0. 0. 0. 1.]\n",
      " [0. 0. 0. 0. 1. 0. 0. 0. 0.]\n",
      " [0. 0. 1. 0. 0. 0. 0. 0. 0.]]\n",
      "(10, 64, 64, 3)\n",
      "[[0. 0. 0. 0. 1. 0. 0. 0. 0.]\n",
      " [0. 0. 0. 1. 0. 0. 0. 0. 0.]\n",
      " [0. 1. 0. 0. 0. 0. 0. 0. 0.]\n",
      " [0. 1. 0. 0. 0. 0. 0. 0. 0.]\n",
      " [0. 0. 0. 0. 0. 0. 1. 0. 0.]\n",
      " [0. 0. 0. 0. 0. 0. 1. 0. 0.]\n",
      " [0. 0. 0. 0. 0. 1. 0. 0. 0.]\n",
      " [0. 0. 0. 0. 0. 0. 0. 0. 1.]\n",
      " [0. 0. 0. 0. 1. 0. 0. 0. 0.]\n",
      " [0. 0. 1. 0. 0. 0. 0. 0. 0.]]\n"
     ]
    },
    {
     "name": "stderr",
     "output_type": "stream",
     "text": [
      "Clipping input data to the valid range for imshow with RGB data ([0..1] for floats or [0..255] for integers).\n",
      "Clipping input data to the valid range for imshow with RGB data ([0..1] for floats or [0..255] for integers).\n",
      "Clipping input data to the valid range for imshow with RGB data ([0..1] for floats or [0..255] for integers).\n",
      "Clipping input data to the valid range for imshow with RGB data ([0..1] for floats or [0..255] for integers).\n",
      "Clipping input data to the valid range for imshow with RGB data ([0..1] for floats or [0..255] for integers).\n",
      "Clipping input data to the valid range for imshow with RGB data ([0..1] for floats or [0..255] for integers).\n",
      "Clipping input data to the valid range for imshow with RGB data ([0..1] for floats or [0..255] for integers).\n",
      "Clipping input data to the valid range for imshow with RGB data ([0..1] for floats or [0..255] for integers).\n",
      "Clipping input data to the valid range for imshow with RGB data ([0..1] for floats or [0..255] for integers).\n",
      "Clipping input data to the valid range for imshow with RGB data ([0..1] for floats or [0..255] for integers).\n",
      "Clipping input data to the valid range for imshow with RGB data ([0..1] for floats or [0..255] for integers).\n",
      "Clipping input data to the valid range for imshow with RGB data ([0..1] for floats or [0..255] for integers).\n",
      "Clipping input data to the valid range for imshow with RGB data ([0..1] for floats or [0..255] for integers).\n",
      "Clipping input data to the valid range for imshow with RGB data ([0..1] for floats or [0..255] for integers).\n",
      "Clipping input data to the valid range for imshow with RGB data ([0..1] for floats or [0..255] for integers).\n",
      "Clipping input data to the valid range for imshow with RGB data ([0..1] for floats or [0..255] for integers).\n",
      "Clipping input data to the valid range for imshow with RGB data ([0..1] for floats or [0..255] for integers).\n",
      "Clipping input data to the valid range for imshow with RGB data ([0..1] for floats or [0..255] for integers).\n",
      "Clipping input data to the valid range for imshow with RGB data ([0..1] for floats or [0..255] for integers).\n",
      "Clipping input data to the valid range for imshow with RGB data ([0..1] for floats or [0..255] for integers).\n",
      "Clipping input data to the valid range for imshow with RGB data ([0..1] for floats or [0..255] for integers).\n",
      "Clipping input data to the valid range for imshow with RGB data ([0..1] for floats or [0..255] for integers).\n",
      "Clipping input data to the valid range for imshow with RGB data ([0..1] for floats or [0..255] for integers).\n",
      "Clipping input data to the valid range for imshow with RGB data ([0..1] for floats or [0..255] for integers).\n",
      "Clipping input data to the valid range for imshow with RGB data ([0..1] for floats or [0..255] for integers).\n",
      "Clipping input data to the valid range for imshow with RGB data ([0..1] for floats or [0..255] for integers).\n",
      "Clipping input data to the valid range for imshow with RGB data ([0..1] for floats or [0..255] for integers).\n",
      "Clipping input data to the valid range for imshow with RGB data ([0..1] for floats or [0..255] for integers).\n",
      "Clipping input data to the valid range for imshow with RGB data ([0..1] for floats or [0..255] for integers).\n",
      "Clipping input data to the valid range for imshow with RGB data ([0..1] for floats or [0..255] for integers).\n"
     ]
    },
    {
     "data": {
      "image/png": "[encoded data removed]",
      "text/plain": [
       "<Figure size 2160x1440 with 10 Axes>"
      ]
     },
     "metadata": {
      "needs_background": "light"
     },
     "output_type": "display_data"
    },
    {
     "name": "stdout",
     "output_type": "stream",
     "text": [
      "(10, 64, 64, 3)\n",
      "[[0. 0. 0. 0. 0. 1. 0. 0. 0.]\n",
      " [0. 0. 0. 1. 0. 0. 0. 0. 0.]\n",
      " [0. 1. 0. 0. 0. 0. 0. 0. 0.]\n",
      " [0. 0. 0. 1. 0. 0. 0. 0. 0.]\n",
      " [0. 0. 1. 0. 0. 0. 0. 0. 0.]\n",
      " [0. 0. 0. 0. 0. 1. 0. 0. 0.]\n",
      " [0. 0. 1. 0. 0. 0. 0. 0. 0.]\n",
      " [0. 0. 0. 0. 1. 0. 0. 0. 0.]\n",
      " [0. 0. 0. 0. 0. 1. 0. 0. 0.]\n",
      " [0. 0. 0. 0. 0. 0. 0. 1. 0.]]\n"
     ]
    },
    {
     "data": {
      "image/png": "[encoded data removed]",
      "text/plain": [
       "<Figure size 2160x1440 with 10 Axes>"
      ]
     },
     "metadata": {
      "needs_background": "light"
     },
     "output_type": "display_data"
    },
    {
     "data": {
      "image/png": "[encoded data removed]",
      "text/plain": [
       "<Figure size 2160x1440 with 10 Axes>"
      ]
     },
     "metadata": {
      "needs_background": "light"
     },
     "output_type": "display_data"
    },
    {
     "name": "stdout",
     "output_type": "stream",
     "text": [
      "(10, 64, 64, 3)\n",
      "[[0. 0. 0. 0. 0. 1. 0. 0. 0.]\n",
      " [0. 0. 0. 1. 0. 0. 0. 0. 0.]\n",
      " [0. 1. 0. 0. 0. 0. 0. 0. 0.]\n",
      " [0. 0. 0. 1. 0. 0. 0. 0. 0.]\n",
      " [0. 0. 1. 0. 0. 0. 0. 0. 0.]\n",
      " [0. 0. 0. 0. 0. 1. 0. 0. 0.]\n",
      " [0. 0. 1. 0. 0. 0. 0. 0. 0.]\n",
      " [0. 0. 0. 0. 1. 0. 0. 0. 0.]\n",
      " [0. 0. 0. 0. 0. 1. 0. 0. 0.]\n",
      " [0. 0. 0. 0. 0. 0. 0. 1. 0.]]\n",
      "(10, 64, 64, 3)\n",
      "[[0. 0. 0. 0. 0. 1. 0. 0. 0.]\n",
      " [0. 0. 0. 1. 0. 0. 0. 0. 0.]\n",
      " [0. 1. 0. 0. 0. 0. 0. 0. 0.]\n",
      " [0. 0. 0. 1. 0. 0. 0. 0. 0.]\n",
      " [0. 0. 1. 0. 0. 0. 0. 0. 0.]\n",
      " [0. 0. 0. 0. 0. 1. 0. 0. 0.]\n",
      " [0. 0. 1. 0. 0. 0. 0. 0. 0.]\n",
      " [0. 0. 0. 0. 1. 0. 0. 0. 0.]\n",
      " [0. 0. 0. 0. 0. 1. 0. 0. 0.]\n",
      " [0. 0. 0. 0. 0. 0. 0. 1. 0.]]\n"
     ]
    }
   ],
   "source": [
    "getImageData(train_batches)\n",
    "getImageData(test_batches)"
   ]
  },
  {
   "cell_type": "markdown",
   "id": "collected-rebate",
   "metadata": {},
   "source": [
    "### Creating CNN Layers"
   ]
  },
  {
   "cell_type": "code",
   "execution_count": 14,
   "id": "pacific-halloween",
   "metadata": {},
   "outputs": [],
   "source": [
    "model = Sequential()\n",
    "\n",
    "# 1st Convolution Layer\n",
    "model.add(Conv2D(filters=32, kernel_size=(3,3), padding=\"same\", input_shape=(64,64,3)))\n",
    "model.add(BatchNormalization())\n",
    "model.add(Activation(\"relu\"))\n",
    "model.add(MaxPool2D(pool_size=(2,2)))\n",
    "model.add(Dropout(0.25))\n",
    "\n",
    "# 2nd Convolution Layer\n",
    "model.add(Conv2D(filters=64, kernel_size=(3,3), padding='same'))\n",
    "model.add(BatchNormalization())\n",
    "model.add(Activation(\"relu\"))\n",
    "model.add(MaxPool2D(pool_size=(2,2)))\n",
    "model.add(Dropout(0.25))\n",
    "\n",
    "# 3rd Convolution Layer          \n",
    "model.add(Conv2D(filters=128, kernel_size=(3,3), padding='same'))\n",
    "model.add(BatchNormalization())\n",
    "model.add(Activation(\"relu\"))\n",
    "model.add(MaxPool2D(pool_size=(2,2)))\n",
    "model.add(Dropout(0.25))\n",
    "\n",
    "# 4th Convolution Layer          \n",
    "model.add(Conv2D(filters=128, kernel_size=(3,3), padding='same'))\n",
    "model.add(BatchNormalization())\n",
    "model.add(Activation(\"relu\"))\n",
    "model.add(MaxPool2D(pool_size=(2,2)))\n",
    "model.add(Dropout(0.25))\n",
    "\n",
    "\n",
    "# Flattening\n",
    "model.add(Flatten())\n",
    "\n",
    "# 1st Fully Connected Layer\n",
    "model.add(Dense(64))\n",
    "model.add(BatchNormalization())\n",
    "model.add(Activation(\"relu\"))\n",
    "model.add(Dropout(0.25))\n",
    "\n",
    "\n",
    "# 2nd Fully Connected Layer\n",
    "model.add(Dense(128))\n",
    "model.add(BatchNormalization())\n",
    "model.add(Activation(\"relu\"))\n",
    "model.add(Dropout(0.25))\n",
    "\n",
    "\n",
    "# 3rd Fully Connected Layer\n",
    "model.add(Dense(128))\n",
    "model.add(BatchNormalization())\n",
    "model.add(Activation(\"relu\"))\n",
    "model.add(Dropout(0.25))\n",
    "\n",
    "\n",
    "model.add(Dense(9, activation='softmax'))"
   ]
  },
  {
   "cell_type": "code",
   "execution_count": 15,
   "id": "textile-enforcement",
   "metadata": {},
   "outputs": [
    {
     "name": "stdout",
     "output_type": "stream",
     "text": [
      "Model: \"sequential\"\n",
      "_________________________________________________________________\n",
      "Model: \"sequential\"\n",
      "_________________________________________________________________\n",
      " Layer (type)                Output Shape              Param #   \n",
      "Model: \"sequential\"\n",
      "_________________________________________________________________\n",
      " Layer (type)                Output Shape              Param #   \n",
      " Layer (type)                Output Shape              Param #   \n",
      "=================================================================\n",
      " conv2d (Conv2D)             (None, 64, 64, 32)        896       \n",
      "                                                                 \n",
      " batch_normalization (BatchN  (None, 64, 64, 32)       128       \n",
      " ormalization)                                                   \n",
      "                                                                 \n",
      "=================================================================\n",
      " conv2d (Conv2D)             (None, 64, 64, 32)        896       \n",
      "                                                                 \n",
      " batch_normalization (BatchN  (None, 64, 64, 32)       128       \n",
      " ormalization)                                                   \n",
      "                                                                 \n",
      " activation (Activation)     (None, 64, 64, 32)        0         \n",
      "                                                                 \n",
      "=================================================================\n",
      " conv2d (Conv2D)             (None, 64, 64, 32)        896       \n",
      "                                                                 \n",
      " batch_normalization (BatchN  (None, 64, 64, 32)       128       \n",
      " ormalization)                                                   \n",
      "                                                                 \n",
      " activation (Activation)     (None, 64, 64, 32)        0         \n",
      "                                                                 \n",
      " max_pooling2d (MaxPooling2D  (None, 32, 32, 32)       0         \n",
      " activation (Activation)     (None, 64, 64, 32)        0         \n",
      "                                                                 \n",
      " max_pooling2d (MaxPooling2D  (None, 32, 32, 32)       0         \n",
      " )                                                               \n",
      "                                                                 \n",
      " dropout (Dropout)           (None, 32, 32, 32)        0         \n",
      "                                                                 \n",
      " conv2d_1 (Conv2D)           (None, 32, 32, 64)        18496     \n",
      "                                                                 \n",
      " batch_normalization_1 (Batc  (None, 32, 32, 64)       256       \n",
      " hNormalization)                                                 \n",
      "                                                                 \n",
      " activation_1 (Activation)   (None, 32, 32, 64)        0         \n",
      "                                                                 \n",
      " max_pooling2d_1 (MaxPooling  (None, 16, 16, 64)       0         \n",
      " max_pooling2d (MaxPooling2D  (None, 32, 32, 32)       0         \n",
      " )                                                               \n",
      "                                                                 \n",
      " dropout (Dropout)           (None, 32, 32, 32)        0         \n",
      "                                                                 \n",
      " conv2d_1 (Conv2D)           (None, 32, 32, 64)        18496     \n",
      "                                                                 \n",
      " batch_normalization_1 (Batc  (None, 32, 32, 64)       256       \n",
      " hNormalization)                                                 \n",
      "                                                                 \n",
      " activation_1 (Activation)   (None, 32, 32, 64)        0         \n",
      "                                                                 \n",
      " max_pooling2d_1 (MaxPooling  (None, 16, 16, 64)       0         \n",
      " 2D)                                                             \n",
      "                                                                 \n",
      " )                                                               \n",
      "                                                                 \n",
      " dropout (Dropout)           (None, 32, 32, 32)        0         \n",
      "                                                                 \n",
      " conv2d_1 (Conv2D)           (None, 32, 32, 64)        18496     \n",
      "                                                                 \n",
      " batch_normalization_1 (Batc  (None, 32, 32, 64)       256       \n",
      " hNormalization)                                                 \n",
      "                                                                 \n",
      " activation_1 (Activation)   (None, 32, 32, 64)        0         \n",
      "                                                                 \n",
      " max_pooling2d_1 (MaxPooling  (None, 16, 16, 64)       0         \n",
      " 2D)                                                             \n",
      "                                                                 \n",
      " dropout_1 (Dropout)         (None, 16, 16, 64)        0         \n",
      " 2D)                                                             \n",
      "                                                                 \n",
      " dropout_1 (Dropout)         (None, 16, 16, 64)        0         \n",
      "                                                                 \n",
      " conv2d_2 (Conv2D)           (None, 16, 16, 128)       73856     \n",
      "                                                                 \n",
      " batch_normalization_2 (Batc  (None, 16, 16, 128)      512       \n",
      " hNormalization)                                                 \n",
      "                                                                 \n",
      " activation_2 (Activation)   (None, 16, 16, 128)       0         \n",
      "                                                                 \n",
      " dropout_1 (Dropout)         (None, 16, 16, 64)        0         \n",
      "                                                                 \n",
      " conv2d_2 (Conv2D)           (None, 16, 16, 128)       73856     \n",
      "                                                                 \n",
      " batch_normalization_2 (Batc  (None, 16, 16, 128)      512       \n",
      " hNormalization)                                                 \n",
      "                                                                 \n",
      " activation_2 (Activation)   (None, 16, 16, 128)       0         \n",
      "                                                                 \n",
      " max_pooling2d_2 (MaxPooling  (None, 8, 8, 128)        0         \n",
      " 2D)                                                             \n",
      "                                                                 \n",
      "                                                                 \n",
      " conv2d_2 (Conv2D)           (None, 16, 16, 128)       73856     \n",
      "                                                                 \n",
      " batch_normalization_2 (Batc  (None, 16, 16, 128)      512       \n",
      " hNormalization)                                                 \n",
      "                                                                 \n",
      " activation_2 (Activation)   (None, 16, 16, 128)       0         \n",
      "                                                                 \n",
      " max_pooling2d_2 (MaxPooling  (None, 8, 8, 128)        0         \n",
      " 2D)                                                             \n",
      "                                                                 \n",
      " dropout_2 (Dropout)         (None, 8, 8, 128)         0         \n",
      "                                                                 \n",
      " conv2d_3 (Conv2D)           (None, 8, 8, 128)         147584    \n",
      " max_pooling2d_2 (MaxPooling  (None, 8, 8, 128)        0         \n",
      " 2D)                                                             \n",
      "                                                                 \n",
      " dropout_2 (Dropout)         (None, 8, 8, 128)         0         \n",
      "                                                                 \n",
      " conv2d_3 (Conv2D)           (None, 8, 8, 128)         147584    \n",
      "                                                                 \n",
      " batch_normalization_3 (Batc  (None, 8, 8, 128)        512       \n",
      " hNormalization)                                                 \n",
      "                                                                 \n",
      " dropout_2 (Dropout)         (None, 8, 8, 128)         0         \n",
      "                                                                 \n",
      " conv2d_3 (Conv2D)           (None, 8, 8, 128)         147584    \n"
     ]
    },
    {
     "name": "stdout",
     "output_type": "stream",
     "text": [
      "                                                                 \n",
      " batch_normalization_3 (Batc  (None, 8, 8, 128)        512       \n",
      " hNormalization)                                                 \n",
      "                                                                 \n",
      " activation_3 (Activation)   (None, 8, 8, 128)         0         \n",
      "                                                                 \n",
      " max_pooling2d_3 (MaxPooling  (None, 4, 4, 128)        0         \n",
      "                                                                 \n",
      " batch_normalization_3 (Batc  (None, 8, 8, 128)        512       \n",
      " hNormalization)                                                 \n",
      "                                                                 \n",
      " activation_3 (Activation)   (None, 8, 8, 128)         0         \n",
      "                                                                 \n",
      " max_pooling2d_3 (MaxPooling  (None, 4, 4, 128)        0         \n",
      " 2D)                                                             \n",
      "                                                                 \n",
      " dropout_3 (Dropout)         (None, 4, 4, 128)         0         \n",
      "                                                                 \n",
      " activation_3 (Activation)   (None, 8, 8, 128)         0         \n",
      "                                                                 \n",
      " max_pooling2d_3 (MaxPooling  (None, 4, 4, 128)        0         \n",
      " 2D)                                                             \n",
      "                                                                 \n",
      " dropout_3 (Dropout)         (None, 4, 4, 128)         0         \n",
      "                                                                 \n",
      " flatten (Flatten)           (None, 2048)              0         \n",
      "                                                                 \n",
      " dense (Dense)               (None, 64)                131136    \n",
      "                                                                 \n",
      " batch_normalization_4 (Batc  (None, 64)               256       \n",
      " hNormalization)                                                 \n",
      "                                                                 \n",
      " activation_4 (Activation)   (None, 64)                0         \n",
      "                                                                 \n",
      " dropout_4 (Dropout)         (None, 64)                0         \n",
      "                                                                 \n",
      " dense_1 (Dense)             (None, 128)               8320      \n",
      " 2D)                                                             \n",
      "                                                                 \n",
      " dropout_3 (Dropout)         (None, 4, 4, 128)         0         \n",
      "                                                                 \n",
      " flatten (Flatten)           (None, 2048)              0         \n",
      "                                                                 \n",
      " dense (Dense)               (None, 64)                131136    \n",
      "                                                                 \n",
      " batch_normalization_4 (Batc  (None, 64)               256       \n",
      " hNormalization)                                                 \n",
      "                                                                 \n",
      " activation_4 (Activation)   (None, 64)                0         \n",
      "                                                                 \n",
      " dropout_4 (Dropout)         (None, 64)                0         \n",
      "                                                                 \n",
      " dense_1 (Dense)             (None, 128)               8320      \n",
      "                                                                 \n",
      " flatten (Flatten)           (None, 2048)              0         \n",
      "                                                                 \n",
      " dense (Dense)               (None, 64)                131136    \n",
      "                                                                 \n",
      " batch_normalization_4 (Batc  (None, 64)               256       \n",
      " hNormalization)                                                 \n",
      "                                                                 \n",
      " activation_4 (Activation)   (None, 64)                0         \n",
      "                                                                 \n",
      " dropout_4 (Dropout)         (None, 64)                0         \n",
      "                                                                 \n",
      " dense_1 (Dense)             (None, 128)               8320      \n",
      "                                                                 \n",
      " batch_normalization_5 (Batc  (None, 128)              512       \n",
      "                                                                 \n",
      " batch_normalization_5 (Batc  (None, 128)              512       \n",
      " hNormalization)                                                 \n",
      "                                                                 \n",
      " activation_5 (Activation)   (None, 128)               0         \n",
      "                                                                 \n",
      " batch_normalization_5 (Batc  (None, 128)              512       \n",
      " hNormalization)                                                 \n",
      "                                                                 \n",
      " activation_5 (Activation)   (None, 128)               0         \n",
      "                                                                 \n",
      " dropout_5 (Dropout)         (None, 128)               0         \n",
      "                                                                 \n",
      " hNormalization)                                                 \n",
      "                                                                 \n",
      " activation_5 (Activation)   (None, 128)               0         \n",
      "                                                                 \n",
      " dropout_5 (Dropout)         (None, 128)               0         \n",
      "                                                                 \n",
      " dense_2 (Dense)             (None, 128)               16512     \n",
      "                                                                 \n",
      " dropout_5 (Dropout)         (None, 128)               0         \n",
      "                                                                 \n",
      " dense_2 (Dense)             (None, 128)               16512     \n",
      "                                                                 \n",
      " batch_normalization_6 (Batc  (None, 128)              512       \n",
      " hNormalization)                                                 \n",
      " dense_2 (Dense)             (None, 128)               16512     \n",
      "                                                                 \n",
      " batch_normalization_6 (Batc  (None, 128)              512       \n",
      " hNormalization)                                                 \n",
      "                                                                 \n",
      " batch_normalization_6 (Batc  (None, 128)              512       \n",
      " hNormalization)                                                 \n",
      "                                                                 \n",
      "                                                                 \n",
      " activation_6 (Activation)   (None, 128)               0         \n",
      "                                                                 \n",
      " activation_6 (Activation)   (None, 128)               0         \n",
      "                                                                 \n",
      " dropout_6 (Dropout)         (None, 128)               0         \n",
      " activation_6 (Activation)   (None, 128)               0         \n",
      "                                                                 \n",
      " dropout_6 (Dropout)         (None, 128)               0         \n",
      " dropout_6 (Dropout)         (None, 128)               0         \n",
      "                                                                 \n",
      "                                                                 \n",
      "                                                                 \n",
      " dense_3 (Dense)             (None, 9)                 1161      \n",
      " dense_3 (Dense)             (None, 9)                 1161      \n",
      " dense_3 (Dense)             (None, 9)                 1161      \n",
      "                                                                 \n",
      "                                                                 \n",
      "                                                                 \n",
      "=================================================================\n",
      "=================================================================\n",
      "=================================================================\n"
     ]
    },
    {
     "name": "stdout",
     "output_type": "stream",
     "text": [
      "Total params: 400,649\n",
      "Total params: 400,649\n",
      "Total params: 400,649\n",
      "Trainable params: 399,305\n",
      "Trainable params: 399,305\n",
      "Trainable params: 399,305\n",
      "Non-trainable params: 1,344\n",
      "Non-trainable params: 1,344\n",
      "Non-trainable params: 1,344\n",
      "_________________________________________________________________\n",
      "_________________________________________________________________\n",
      "_________________________________________________________________\n"
     ]
    }
   ],
   "source": [
    "model.summary()"
   ]
  },
  {
   "cell_type": "markdown",
   "id": "musical-clear",
   "metadata": {},
   "source": [
    "### Using ADAM Optimizer"
   ]
  },
  {
   "cell_type": "code",
   "execution_count": 16,
   "id": "common-foster",
   "metadata": {},
   "outputs": [],
   "source": [
    "model.compile(optimizer=Adam(learning_rate=0.0001), loss='categorical_crossentropy', metrics=['accuracy'])\n",
    "reduce_lr = ReduceLROnPlateau(monitor='val_loss', factor=0.2, patience=1, min_lr=0.0001)\n",
    "early_stop = EarlyStopping(monitor='val_loss', min_delta=0, patience=2, verbose=0, mode='auto')"
   ]
  },
  {
   "cell_type": "markdown",
   "id": "needed-consciousness",
   "metadata": {},
   "source": [
    "### Using SGD Optimizer"
   ]
  },
  {
   "cell_type": "code",
   "execution_count": 17,
   "id": "proud-quantity",
   "metadata": {},
   "outputs": [],
   "source": [
    "# model.compile(optimizer=SGD(learning_rate=0.0001), loss='categorical_crossentropy', metrics=['accuracy'])\n",
    "# reduce_lr = ReduceLROnPlateau(monitor='val_loss', factor=0.2, patience=1, min_lr=0.0005)\n",
    "# early_stop = EarlyStopping(monitor='val_loss', min_delta=0, patience=2, verbose=0, mode='auto')"
   ]
  },
  {
   "cell_type": "code",
   "execution_count": 18,
   "id": "partial-royal",
   "metadata": {
    "scrolled": true
   },
   "outputs": [
    {
     "name": "stdout",
     "output_type": "stream",
     "text": [
      "Epoch 1/10\n",
      "Epoch 1/10\n",
      "Epoch 1/10\n",
      "1752/1752 [==============================] - 1253s 711ms/step - loss: 1.2862 - accuracy: 0.5616 - val_loss: 1.6608 - val_accuracy: 0.4280 - lr: 1.0000e-04\n",
      "1752/1752 [==============================] - 1253s 711ms/step - loss: 1.2862 - accuracy: 0.5616 - val_loss: 1.6608 - val_accuracy: 0.4280 - lr: 1.0000e-04\n",
      "1752/1752 [==============================] - 1253s 711ms/step - loss: 1.2862 - accuracy: 0.5616 - val_loss: 1.6608 - val_accuracy: 0.4280 - lr: 1.0000e-04\n",
      "Epoch 2/10\n",
      "Epoch 2/10\n",
      "Epoch 2/10\n",
      "1752/1752 [==============================] - 399s 228ms/step - loss: 0.3313 - accuracy: 0.9115 - val_loss: 1.4283 - val_accuracy: 0.6442 - lr: 1.0000e-04\n",
      "1752/1752 [==============================] - 399s 228ms/step - loss: 0.3313 - accuracy: 0.9115 - val_loss: 1.4283 - val_accuracy: 0.6442 - lr: 1.0000e-04\n",
      "1752/1752 [==============================] - 399s 228ms/step - loss: 0.3313 - accuracy: 0.9115 - val_loss: 1.4283 - val_accuracy: 0.6442 - lr: 1.0000e-04\n",
      "Epoch 3/10\n",
      "Epoch 3/10\n",
      "Epoch 3/10\n",
      "1752/1752 [==============================] - 416s 237ms/step - loss: 0.1611 - accuracy: 0.9595 - val_loss: 0.7895 - val_accuracy: 0.7183 - lr: 1.0000e-04\n",
      "1752/1752 [==============================] - 416s 237ms/step - loss: 0.1611 - accuracy: 0.9595 - val_loss: 0.7895 - val_accuracy: 0.7183 - lr: 1.0000e-04\n",
      "1752/1752 [==============================] - 416s 237ms/step - loss: 0.1611 - accuracy: 0.9595 - val_loss: 0.7895 - val_accuracy: 0.7183 - lr: 1.0000e-04\n",
      "Epoch 4/10\n",
      "Epoch 4/10\n",
      "Epoch 4/10\n",
      "1752/1752 [==============================] - 889s 508ms/step - loss: 0.1045 - accuracy: 0.9730 - val_loss: 0.2978 - val_accuracy: 0.8963 - lr: 1.0000e-04\n",
      "1752/1752 [==============================] - 889s 508ms/step - loss: 0.1045 - accuracy: 0.9730 - val_loss: 0.2978 - val_accuracy: 0.8963 - lr: 1.0000e-04\n",
      "Epoch 5/10\n",
      "Epoch 5/10\n",
      "1752/1752 [==============================] - 264s 151ms/step - loss: 0.0784 - accuracy: 0.9806 - val_loss: 0.1614 - val_accuracy: 0.9275 - lr: 1.0000e-04\n",
      "1752/1752 [==============================] - 264s 151ms/step - loss: 0.0784 - accuracy: 0.9806 - val_loss: 0.1614 - val_accuracy: 0.9275 - lr: 1.0000e-04\n",
      "Epoch 6/10\n",
      "Epoch 6/10\n",
      "1752/1752 [==============================] - 282s 161ms/step - loss: 0.0494 - accuracy: 0.9869 - val_loss: 0.1034 - val_accuracy: 0.9583 - lr: 1.0000e-04\n",
      "1752/1752 [==============================] - 282s 161ms/step - loss: 0.0494 - accuracy: 0.9869 - val_loss: 0.1034 - val_accuracy: 0.9583 - lr: 1.0000e-04\n",
      "Epoch 7/10\n",
      "Epoch 7/10\n",
      "1752/1752 [==============================] - 296s 169ms/step - loss: 0.0406 - accuracy: 0.9904 - val_loss: 0.0775 - val_accuracy: 0.9697 - lr: 1.0000e-04\n",
      "1752/1752 [==============================] - 296s 169ms/step - loss: 0.0406 - accuracy: 0.9904 - val_loss: 0.0775 - val_accuracy: 0.9697 - lr: 1.0000e-04\n",
      "Epoch 8/10\n",
      "Epoch 8/10\n",
      "1752/1752 [==============================] - 317s 181ms/step - loss: 0.0354 - accuracy: 0.9913 - val_loss: 0.0140 - val_accuracy: 0.9947 - lr: 1.0000e-04\n",
      "1752/1752 [==============================] - 317s 181ms/step - loss: 0.0354 - accuracy: 0.9913 - val_loss: 0.0140 - val_accuracy: 0.9947 - lr: 1.0000e-04\n",
      "Epoch 9/10\n",
      "Epoch 9/10\n",
      "1752/1752 [==============================] - 308s 176ms/step - loss: 0.0293 - accuracy: 0.9922 - val_loss: 0.0047 - val_accuracy: 0.9984 - lr: 1.0000e-04\n",
      "1752/1752 [==============================] - 308s 176ms/step - loss: 0.0293 - accuracy: 0.9922 - val_loss: 0.0047 - val_accuracy: 0.9984 - lr: 1.0000e-04\n",
      "Epoch 10/10\n",
      "Epoch 10/10\n",
      "1752/1752 [==============================] - 276s 157ms/step - loss: 0.0265 - accuracy: 0.9926 - val_loss: 0.0052 - val_accuracy: 0.9986 - lr: 1.0000e-04\n",
      "1752/1752 [==============================] - 276s 157ms/step - loss: 0.0265 - accuracy: 0.9926 - val_loss: 0.0052 - val_accuracy: 0.9986 - lr: 1.0000e-04\n"
     ]
    }
   ],
   "source": [
    "history = model.fit(train_batches, epochs=10, callbacks=[reduce_lr, early_stop], validation_data=test_batches)"
   ]
  },
  {
   "cell_type": "code",
   "execution_count": 19,
   "id": "compound-catch",
   "metadata": {},
   "outputs": [
    {
     "name": "stdout",
     "output_type": "stream",
     "text": [
      "Loss : [1.286153793334961, 0.33125415444374084, 0.16111953556537628, 0.10448174178600311, 0.0783701241016388, 0.049422044306993484, 0.04057156667113304, 0.03539859503507614, 0.029335997998714447, 0.026528427377343178]\n",
      "Accuracy : [0.5616438388824463, 0.9114726185798645, 0.9595319628715515, 0.9730022549629211, 0.9805936217308044, 0.986872136592865, 0.9903538823127747, 0.9912671446800232, 0.9922374486923218, 0.9925799369812012]\n",
      "Val Loss : [1.6608424186706543, 1.4282985925674438, 0.7894979119300842, 0.29777035117149353, 0.16141051054000854, 0.10342969745397568, 0.07752778381109238, 0.013980369083583355, 0.004660699050873518, 0.005221517290920019]\n",
      "Val Accuracy : [0.4280092716217041, 0.6442129611968994, 0.7182870507240295, 0.8962963223457336, 0.9275463223457336, 0.9583333134651184, 0.9696758985519409, 0.9946759343147278, 0.998379647731781, 0.9986110925674438]\n",
      "LR : [1e-04, 1e-04, 1e-04, 1e-04, 1e-04, 1e-04, 1e-04, 1e-04, 1e-04, 1e-04]\n",
      "Loss : [1.286153793334961, 0.33125415444374084, 0.16111953556537628, 0.10448174178600311, 0.0783701241016388, 0.049422044306993484, 0.04057156667113304, 0.03539859503507614, 0.029335997998714447, 0.026528427377343178]\n",
      "Accuracy : [0.5616438388824463, 0.9114726185798645, 0.9595319628715515, 0.9730022549629211, 0.9805936217308044, 0.986872136592865, 0.9903538823127747, 0.9912671446800232, 0.9922374486923218, 0.9925799369812012]\n",
      "Val Loss : [1.6608424186706543, 1.4282985925674438, 0.7894979119300842, 0.29777035117149353, 0.16141051054000854, 0.10342969745397568, 0.07752778381109238, 0.013980369083583355, 0.004660699050873518, 0.005221517290920019]\n",
      "Val Accuracy : [0.4280092716217041, 0.6442129611968994, 0.7182870507240295, 0.8962963223457336, 0.9275463223457336, 0.9583333134651184, 0.9696758985519409, 0.9946759343147278, 0.998379647731781, 0.9986110925674438]\n",
      "LR : [1e-04, 1e-04, 1e-04, 1e-04, 1e-04, 1e-04, 1e-04, 1e-04, 1e-04, 1e-04]\n"
     ]
    }
   ],
   "source": [
    "print(\"Loss :\", history.history['loss'])\n",
    "print(\"Accuracy :\", history.history['accuracy'])\n",
    "print(\"Val Loss :\", history.history['val_loss'])\n",
    "print(\"Val Accuracy :\", history.history['val_accuracy'])\n",
    "print(\"LR :\", history.history['lr'])"
   ]
  },
  {
   "cell_type": "code",
   "execution_count": 20,
   "id": "physical-terrain",
   "metadata": {},
   "outputs": [
    {
     "data": {
      "image/png": "[encoded data removed]",
      "text/plain": [
       "<Figure size 576x432 with 2 Axes>"
      ]
     },
     "metadata": {
      "needs_background": "light"
     },
     "output_type": "display_data"
    },
    {
     "data": {
      "image/png": "[encoded data removed]",
      "text/plain": [
       "<Figure size 576x432 with 2 Axes>"
      ]
     },
     "metadata": {
      "needs_background": "light"
     },
     "output_type": "display_data"
    }
   ],
   "source": [
    "# Plotting Model Accuracy for both Training and Validation\n",
    "fig, (ax1, ax2) = plt.subplots(1, 2, figsize=(8, 6))\n",
    "ax1.plot(history.history['accuracy'])\n",
    "ax1.plot(history.history['val_accuracy'])\n",
    "ax1.set_title(\"Model Accuracy\")\n",
    "ax1.set_xlabel(\"epoch\")\n",
    "ax1.set_ylabel(\"accuracy\")\n",
    "ax1.legend(['train', 'validation'], loc=\"lower right\")\n",
    "\n",
    "# Plotting Model Loss for both Training and Validation\n",
    "ax2.plot(history.history['loss'])\n",
    "ax2.plot(history.history['val_loss'])\n",
    "ax2.set_title(\"Model Loss\")\n",
    "ax2.set_xlabel(\"epoch\")\n",
    "ax2.set_ylabel(\"loss\")\n",
    "ax2.legend(['train', 'validation'], loc=\"upper right\")\n",
    "\n",
    "fig.tight_layout(pad=5.0)\n",
    "plt.show()"
   ]
  },
  {
   "cell_type": "code",
   "execution_count": 21,
   "id": "dedicated-depth",
   "metadata": {},
   "outputs": [
    {
     "name": "stdout",
     "output_type": "stream",
     "text": [
      "loss of 0.0006931663956493139; accuracy of 100.0%\n",
      "loss of 0.0006931663956493139; accuracy of 100.0%\n"
     ]
    }
   ],
   "source": [
    "imgs, labels = next(test_batches) \n",
    "scores = model.evaluate(imgs, labels, verbose=0)\n",
    "print(f'{model.metrics_names[0]} of {scores[0]}; {model.metrics_names[1]} of {scores[1]*100}%')\n",
    "\n",
    "model.save(\"Sign_Language_Translator_ADAM.h5\")"
   ]
  },
  {
   "cell_type": "code",
   "execution_count": 22,
   "id": "brilliant-curve",
   "metadata": {},
   "outputs": [
    {
     "name": "stderr",
     "output_type": "stream",
     "text": [
      "Clipping input data to the valid range for imshow with RGB data ([0..1] for floats or [0..255] for integers).\n",
      "Clipping input data to the valid range for imshow with RGB data ([0..1] for floats or [0..255] for integers).\n",
      "Clipping input data to the valid range for imshow with RGB data ([0..1] for floats or [0..255] for integers).\n",
      "Clipping input data to the valid range for imshow with RGB data ([0..1] for floats or [0..255] for integers).\n",
      "Clipping input data to the valid range for imshow with RGB data ([0..1] for floats or [0..255] for integers).\n",
      "Clipping input data to the valid range for imshow with RGB data ([0..1] for floats or [0..255] for integers).\n",
      "Clipping input data to the valid range for imshow with RGB data ([0..1] for floats or [0..255] for integers).\n",
      "Clipping input data to the valid range for imshow with RGB data ([0..1] for floats or [0..255] for integers).\n",
      "Clipping input data to the valid range for imshow with RGB data ([0..1] for floats or [0..255] for integers).\n",
      "Clipping input data to the valid range for imshow with RGB data ([0..1] for floats or [0..255] for integers).\n",
      "Clipping input data to the valid range for imshow with RGB data ([0..1] for floats or [0..255] for integers).\n"
     ]
    },
    {
     "name": "stdout",
     "output_type": "stream",
     "text": [
      "predictions on a small set of test data--\n",
      "\n",
      "Eight   Five   One   Nine   Three   Seven   Seven   Eight   Nine   Eight   "
     ]
    },
    {
     "name": "stderr",
     "output_type": "stream",
     "text": [
      "Clipping input data to the valid range for imshow with RGB data ([0..1] for floats or [0..255] for integers).\n"
     ]
    },
    {
     "name": "stdout",
     "output_type": "stream",
     "text": [
      "predictions on a small set of test data--\n",
      "\n",
      "Eight   Five   One   Nine   Three   Seven   Seven   Eight   Nine   Eight   "
     ]
    },
    {
     "name": "stderr",
     "output_type": "stream",
     "text": [
      "Clipping input data to the valid range for imshow with RGB data ([0..1] for floats or [0..255] for integers).\n",
      "Clipping input data to the valid range for imshow with RGB data ([0..1] for floats or [0..255] for integers).\n",
      "Clipping input data to the valid range for imshow with RGB data ([0..1] for floats or [0..255] for integers).\n",
      "Clipping input data to the valid range for imshow with RGB data ([0..1] for floats or [0..255] for integers).\n",
      "Clipping input data to the valid range for imshow with RGB data ([0..1] for floats or [0..255] for integers).\n",
      "Clipping input data to the valid range for imshow with RGB data ([0..1] for floats or [0..255] for integers).\n",
      "Clipping input data to the valid range for imshow with RGB data ([0..1] for floats or [0..255] for integers).\n",
      "Clipping input data to the valid range for imshow with RGB data ([0..1] for floats or [0..255] for integers).\n"
     ]
    },
    {
     "data": {
      "image/png": "[encoded data removed]",
      "text/plain": [
       "<Figure size 2160x1440 with 10 Axes>"
      ]
     },
     "metadata": {
      "needs_background": "light"
     },
     "output_type": "display_data"
    },
    {
     "name": "stdout",
     "output_type": "stream",
     "text": [
      "Actual labels\n",
      "Eight   Five   One   Nine   Three   Seven   Seven   Eight   Nine   Eight   "
     ]
    },
    {
     "data": {
      "image/png": "[encoded data removed]",
      "text/plain": [
       "<Figure size 2160x1440 with 10 Axes>"
      ]
     },
     "metadata": {
      "needs_background": "light"
     },
     "output_type": "display_data"
    },
    {
     "name": "stdout",
     "output_type": "stream",
     "text": [
      "Actual labels\n",
      "Eight   Five   One   Nine   Three   Seven   Seven   Eight   Nine   Eight   "
     ]
    }
   ],
   "source": [
    "predictions = model.predict(imgs, verbose=0)\n",
    "\n",
    "print(\"predictions on a small set of test data--\")\n",
    "print(\"\")\n",
    "\n",
    "for ind, i in enumerate(predictions):\n",
    "    print(word_dict[np.argmax(i)], end='   ')\n",
    "    \n",
    "plotImages(imgs)\n",
    "\n",
    "print('Actual labels')\n",
    "for i in labels:\n",
    "    print(word_dict[np.argmax(i)], end='   ')"
   ]
  },
  {
   "cell_type": "markdown",
   "id": "immune-teens",
   "metadata": {},
   "source": [
    "<br>"
   ]
  },
  {
   "cell_type": "code",
   "execution_count": 23,
   "id": "productive-norwegian",
   "metadata": {},
   "outputs": [
    {
     "ename": "SyntaxError",
     "evalue": "invalid syntax (<ipython-input-23-5291a349976b>, line 1)",
     "output_type": "error",
     "traceback": [
      "\u001b[1;36m  File \u001b[1;32m\"<ipython-input-23-5291a349976b>\"\u001b[1;36m, line \u001b[1;32m1\u001b[0m\n\u001b[1;33m    = model = keras.models.load_model(\"Sign_Language_Translator_ADAM.h5\")\u001b[0m\n\u001b[1;37m    ^\u001b[0m\n\u001b[1;31mSyntaxError\u001b[0m\u001b[1;31m:\u001b[0m invalid syntax\n"
     ]
    },
    {
     "ename": "SyntaxError",
     "evalue": "invalid syntax (<ipython-input-23-5291a349976b>, line 1)",
     "output_type": "error",
     "traceback": [
      "\u001b[1;36m  File \u001b[1;32m\"<ipython-input-23-5291a349976b>\"\u001b[1;36m, line \u001b[1;32m1\u001b[0m\n\u001b[1;33m    = model = keras.models.load_model(\"Sign_Language_Translator_ADAM.h5\")\u001b[0m\n\u001b[1;37m    ^\u001b[0m\n\u001b[1;31mSyntaxError\u001b[0m\u001b[1;31m:\u001b[0m invalid syntax\n"
     ]
    }
   ],
   "source": [
    "= model = keras.models.load_model(\"Sign_Language_Translator_ADAM.h5\")"
   ]
  },
  {
   "cell_type": "markdown",
   "id": "owned-ready",
   "metadata": {},
   "source": [
    "# Predict the Gesture"
   ]
  },
  {
   "cell_type": "code",
   "execution_count": null,
   "id": "atmospheric-showcase",
   "metadata": {},
   "outputs": [],
   "source": [
    "import time\n",
    "\n",
    "def predict_gesture():\n",
    "    cam = cv2.VideoCapture(0)\n",
    "    num_frames = 0\n",
    "\n",
    "    while True:\n",
    "        ret, frame = cam.read()\n",
    "\n",
    "        frame = cv2.flip(frame, 1)\n",
    "        frame_copy = frame.copy()\n",
    "\n",
    "        roi = frame[ROI_top:ROI_bottom, ROI_left:ROI_right]\n",
    "\n",
    "        gray_frame = cv2.cvtColor(roi, cv2.COLOR_BGR2GRAY)\n",
    "        gray_frame = cv2.GaussianBlur(gray_frame, (9, 9), 0)\n",
    "\n",
    "        if num_frames < 70:\n",
    "            calculate_accumulated_avg(gray_frame, accumulated_weight)\n",
    "\n",
    "            cv2.putText(frame_copy, \"FETCHING BACKGROUND...PLEASE WAIT\", \n",
    "                        (120, 400), cv2.FONT_HERSHEY_SIMPLEX, 0.5, (0,0,255), 2)\n",
    "\n",
    "        else:\n",
    "            hand = segment_hand(gray_frame)\n",
    "\n",
    "            if hand is not None:\n",
    "                thresholded, hand_segment = hand\n",
    "\n",
    "                # Draw contours around hand segment\n",
    "#                 cv2.drawContours(frame_copy, [hand_segment + (0, 60)], -1, (255, 0, 0),1)\n",
    "                cv2.imshow(\"Thresholded Hand Image\", thresholded)\n",
    "                \n",
    "                thresholded = cv2.resize(thresholded, (64, 64))\n",
    "                thresholded = cv2.cvtColor(thresholded, cv2.COLOR_GRAY2RGB)\n",
    "                thresholded = np.reshape(thresholded, (1, thresholded.shape[0], thresholded.shape[1], 3))\n",
    "                \n",
    "                pred = model.predict(thresholded)\n",
    "                \n",
    "                cv2.putText(frame_copy, word_dict[np.argmax(pred)],\n",
    "                            (170, 45), cv2.FONT_HERSHEY_SIMPLEX, 1, (0,0,255), 2)\n",
    "            else:\n",
    "                cv2.putText(frame_copy, 'No hand detected...', (200, 400), cv2.FONT_HERSHEY_SIMPLEX, 0.5, (0,0,255), 2)\n",
    "\n",
    "                \n",
    "        # Drawing ROI on frame copy\n",
    "        cv2.rectangle(frame_copy, (ROI_left, ROI_top), (ROI_right,ROI_bottom), (255,128,0), 3)\n",
    "\n",
    "        # increment the number of frames for tracking\n",
    "        num_frames += 1\n",
    "\n",
    "        # Display the frame with segmented hand\n",
    "        cv2.imshow(\"Sign Detection\", frame_copy)\n",
    "\n",
    "        # Closing windows with Esc key...(any other key with ord can be used too.)\n",
    "        k = cv2.waitKey(1) & 0xFF\n",
    "        if k == 27:\n",
    "            break\n",
    "\n",
    "    # Releasing the camera & destroying all the windows...\n",
    "    cv2.destroyAllWindows()\n",
    "    cam.release()"
   ]
  },
  {
   "cell_type": "code",
   "execution_count": null,
   "id": "associate-andorra",
   "metadata": {},
   "outputs": [],
   "source": [
    "predict_gesture()"
   ]
  }
 ],
 "metadata": {
  "kernelspec": {
   "display_name": "Python 3",
   "language": "python",
   "name": "python3"
  },
  "language_info": {
   "codemirror_mode": {
    "name": "ipython",
    "version": 3
   },
   "file_extension": ".py",
   "mimetype": "text/x-python",
   "name": "python",
   "nbconvert_exporter": "python",
   "pygments_lexer": "ipython3",
   "version": "3.9.7"
  }
 },
 "nbformat": 4,
 "nbformat_minor": 5
}
